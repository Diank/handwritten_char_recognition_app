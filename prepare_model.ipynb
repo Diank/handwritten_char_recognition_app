{
 "cells": [
  {
   "cell_type": "markdown",
   "id": "003d3879",
   "metadata": {},
   "source": [
    "# Подготовка модели распознавания рукописных букв и цифр"
   ]
  },
  {
   "cell_type": "code",
   "execution_count": 1,
   "id": "5aa6c0d1-be19-4a17-a838-aeca90674dce",
   "metadata": {},
   "outputs": [],
   "source": [
    "import os\n",
    "import numpy as np\n",
    "import pandas as pd\n",
    "import matplotlib.pyplot as plt\n",
    "import seaborn as sns\n",
    "\n",
    "from torchvision.datasets import EMNIST\n",
    "from torchvision.transforms import ToTensor, Compose, Normalize, transforms\n",
    "\n",
    "import torch\n",
    "from torch import nn\n",
    "from torch.utils.data import DataLoader, random_split\n",
    "from torchinfo import summary\n",
    "\n",
    "import torch.optim as optim\n",
    "from torch.optim.lr_scheduler import ReduceLROnPlateau\n"
   ]
  },
  {
   "cell_type": "code",
   "execution_count": 2,
   "id": "17fa0c85",
   "metadata": {},
   "outputs": [
    {
     "data": {
      "text/plain": [
       "Dataset EMNIST\n",
       "    Number of datapoints: 112800\n",
       "    Root location: data/\n",
       "    Split: Train"
      ]
     },
     "execution_count": 2,
     "metadata": {},
     "output_type": "execute_result"
    }
   ],
   "source": [
    "dataset = EMNIST('data/', 'balanced', download=False)\n",
    "dataset"
   ]
  },
  {
   "cell_type": "code",
   "execution_count": 3,
   "id": "c0a712b1-945b-48a7-a235-35a9a55d12a4",
   "metadata": {
    "scrolled": true
   },
   "outputs": [
    {
     "data": {
      "text/plain": [
       "{0: '0',\n",
       " 1: '1',\n",
       " 2: '2',\n",
       " 3: '3',\n",
       " 4: '4',\n",
       " 5: '5',\n",
       " 6: '6',\n",
       " 7: '7',\n",
       " 8: '8',\n",
       " 9: '9',\n",
       " 10: 'A',\n",
       " 11: 'B',\n",
       " 12: 'C',\n",
       " 13: 'D',\n",
       " 14: 'E',\n",
       " 15: 'F',\n",
       " 16: 'G',\n",
       " 17: 'H',\n",
       " 18: 'I',\n",
       " 19: 'J',\n",
       " 20: 'K',\n",
       " 21: 'L',\n",
       " 22: 'M',\n",
       " 23: 'N',\n",
       " 24: 'O',\n",
       " 25: 'P',\n",
       " 26: 'Q',\n",
       " 27: 'R',\n",
       " 28: 'S',\n",
       " 29: 'T',\n",
       " 30: 'U',\n",
       " 31: 'V',\n",
       " 32: 'W',\n",
       " 33: 'X',\n",
       " 34: 'Y',\n",
       " 35: 'Z',\n",
       " 36: 'a',\n",
       " 37: 'b',\n",
       " 38: 'd',\n",
       " 39: 'e',\n",
       " 40: 'f',\n",
       " 41: 'g',\n",
       " 42: 'h',\n",
       " 43: 'n',\n",
       " 44: 'q',\n",
       " 45: 'r',\n",
       " 46: 't'}"
      ]
     },
     "execution_count": 3,
     "metadata": {},
     "output_type": "execute_result"
    }
   ],
   "source": [
    "# посмотрим на словарь метка-символ\n",
    "\n",
    "emnist_map = {}\n",
    "with open('emnist-balanced-mapping.txt', 'r') as file:\n",
    "    for line in file:\n",
    "        label, code = line.split()\n",
    "        emnist_map[int(label)] = chr(int(code))\n",
    "\n",
    "emnist_map"
   ]
  },
  {
   "cell_type": "code",
   "execution_count": 4,
   "id": "5941e931-7b8d-41f2-97b8-255c73ba3739",
   "metadata": {},
   "outputs": [
    {
     "name": "stdout",
     "output_type": "stream",
     "text": [
      "45 r\n"
     ]
    },
    {
     "data": {
      "image/jpeg": "[encoded data removed]",
      "image/png": "[encoded data removed]",
      "text/plain": [
       "<PIL.Image.Image image mode=L size=28x28>"
      ]
     },
     "metadata": {},
     "output_type": "display_data"
    },
    {
     "name": "stdout",
     "output_type": "stream",
     "text": [
      "36 a\n"
     ]
    },
    {
     "data": {
      "image/jpeg": "[encoded data removed]",
      "image/png": "[encoded data removed]",
      "text/plain": [
       "<PIL.Image.Image image mode=L size=28x28>"
      ]
     },
     "metadata": {},
     "output_type": "display_data"
    },
    {
     "name": "stdout",
     "output_type": "stream",
     "text": [
      "43 n\n"
     ]
    },
    {
     "data": {
      "image/jpeg": "[encoded data removed]",
      "image/png": "[encoded data removed]",
      "text/plain": [
       "<PIL.Image.Image image mode=L size=28x28>"
      ]
     },
     "metadata": {},
     "output_type": "display_data"
    },
    {
     "name": "stdout",
     "output_type": "stream",
     "text": [
      "15 F\n"
     ]
    },
    {
     "data": {
      "image/jpeg": "[encoded data removed]",
      "image/png": "[encoded data removed]",
      "text/plain": [
       "<PIL.Image.Image image mode=L size=28x28>"
      ]
     },
     "metadata": {},
     "output_type": "display_data"
    },
    {
     "name": "stdout",
     "output_type": "stream",
     "text": [
      "4 4\n"
     ]
    },
    {
     "data": {
      "image/jpeg": "[encoded data removed]",
      "image/png": "[encoded data removed]",
      "text/plain": [
       "<PIL.Image.Image image mode=L size=28x28>"
      ]
     },
     "metadata": {},
     "output_type": "display_data"
    },
    {
     "name": "stdout",
     "output_type": "stream",
     "text": [
      "42 h\n"
     ]
    },
    {
     "data": {
      "image/jpeg": "[encoded data removed]",
      "image/png": "[encoded data removed]",
      "text/plain": [
       "<PIL.Image.Image image mode=L size=28x28>"
      ]
     },
     "metadata": {},
     "output_type": "display_data"
    },
    {
     "name": "stdout",
     "output_type": "stream",
     "text": [
      "26 Q\n"
     ]
    },
    {
     "data": {
      "image/jpeg": "[encoded data removed]",
      "image/png": "[encoded data removed]",
      "text/plain": [
       "<PIL.Image.Image image mode=L size=28x28>"
      ]
     },
     "metadata": {},
     "output_type": "display_data"
    },
    {
     "name": "stdout",
     "output_type": "stream",
     "text": [
      "32 W\n"
     ]
    },
    {
     "data": {
      "image/jpeg": "[encoded data removed]",
      "image/png": "[encoded data removed]",
      "text/plain": [
       "<PIL.Image.Image image mode=L size=28x28>"
      ]
     },
     "metadata": {},
     "output_type": "display_data"
    },
    {
     "name": "stdout",
     "output_type": "stream",
     "text": [
      "20 K\n"
     ]
    },
    {
     "data": {
      "image/jpeg": "[encoded data removed]",
      "image/png": "[encoded data removed]",
      "text/plain": [
       "<PIL.Image.Image image mode=L size=28x28>"
      ]
     },
     "metadata": {},
     "output_type": "display_data"
    },
    {
     "name": "stdout",
     "output_type": "stream",
     "text": [
      "1 1\n"
     ]
    },
    {
     "data": {
      "image/jpeg": "[encoded data removed]",
      "image/png": "[encoded data removed]",
      "text/plain": [
       "<PIL.Image.Image image mode=L size=28x28>"
      ]
     },
     "metadata": {},
     "output_type": "display_data"
    }
   ],
   "source": [
    "# посмотрим на изображения\n",
    "\n",
    "for i in range(10):\n",
    "    img, label = dataset[i]\n",
    "    print(label, emnist_map[label])\n",
    "    display(img)\n",
    "\n",
    "# можно заметить, что ориентация символов некорректная"
   ]
  },
  {
   "cell_type": "markdown",
   "id": "6a707c1e-1079-4adb-825f-ec9dbcfcafbb",
   "metadata": {
    "jp-MarkdownHeadingCollapsed": true
   },
   "source": [
    "### Предобработка изображений"
   ]
  },
  {
   "cell_type": "code",
   "execution_count": 5,
   "id": "9ccf1f34-b59b-48d8-b38a-0df48afb9e50",
   "metadata": {},
   "outputs": [],
   "source": [
    "def rotate(image):\n",
    "    \n",
    "    image = image.reshape([28, 28])\n",
    "    image = np.fliplr(image)\n",
    "    image = np.rot90(image)\n",
    "    \n",
    "    return image"
   ]
  },
  {
   "cell_type": "code",
   "execution_count": 6,
   "id": "c2792a34-ec4e-4f37-98ad-0df6d76da6d7",
   "metadata": {},
   "outputs": [],
   "source": [
    "# Создаём новую трансформацию\n",
    "class RotateTransform:\n",
    "    def __call__(self, image):\n",
    "        image = np.array(image)  # Преобразуем в numpy\n",
    "        image = rotate(image)  # Применяем функцию поворота\n",
    "        return transforms.ToTensor()(image)  # Преобразуем обратно в тензор\n"
   ]
  },
  {
   "cell_type": "code",
   "execution_count": 7,
   "id": "0efc2f7a-c6c0-4794-ad90-eb1ffa2e1289",
   "metadata": {},
   "outputs": [],
   "source": [
    "# приведем изображения PIL.Image в тензоры\n",
    "# и отцентрируем и отнормируем данные, чтобы на вход модели приходили числа от −1 до 1\n",
    "\n",
    "transform = Compose([\n",
    "    ToTensor(),  # преобразуем изображение в тензор (авто / 255)\n",
    "    RotateTransform(),  # применяем функцию поворота\n",
    "    Normalize([0.5], [0.5])  # масштабируем в [-1, 1]\n",
    "])\n",
    "\n",
    "train_dataset = EMNIST('data/', 'balanced', train=True, download=False, transform=transform)\n",
    "test_dataset = EMNIST('data/', 'balanced', train=False, download=False, transform=transform)"
   ]
  },
  {
   "cell_type": "code",
   "execution_count": 8,
   "id": "7e154af1-e0c1-4857-a4ea-b273d346a472",
   "metadata": {},
   "outputs": [
    {
     "data": {
      "image/png": "[encoded data removed]",
      "text/plain": [
       "<Figure size 1200x300 with 9 Axes>"
      ]
     },
     "metadata": {},
     "output_type": "display_data"
    }
   ],
   "source": [
    "# убедимся, что теперь изображения имеют корректную ориентацию\n",
    "\n",
    "# функция для отображения нескольких изображений\n",
    "def show_images(dataset, num_images=9):\n",
    "    fig, axes = plt.subplots(1, num_images , figsize=(12, 3))\n",
    "\n",
    "    for i in range(num_images):\n",
    "        idx = np.random.randint(0, len(dataset))  \n",
    "        image, label = dataset[idx]  \n",
    "        image = image.squeeze(0).numpy()  # убирем лишний канал (1, 28, 28) -> (28, 28)\n",
    "        \n",
    "        axes[i].imshow(image, cmap='gray')  \n",
    "        axes[i].set_title(f\"Char: {emnist_map[label]}\")  \n",
    "        axes[i].axis(\"off\")\n",
    "\n",
    "    plt.show()\n",
    "\n",
    "show_images(train_dataset)"
   ]
  },
  {
   "cell_type": "code",
   "execution_count": 9,
   "id": "bfe6cd68-4664-4fb4-9c17-102ef98926a4",
   "metadata": {},
   "outputs": [],
   "source": [
    "# определим размер train и val\n",
    "train_size = int(0.8 * len(train_dataset))  # 80% данных для train\n",
    "val_size = len(train_dataset) - train_size  # 20% данных для val\n",
    "\n",
    "# разобьем датасет на train и val\n",
    "train_data, val_data = random_split(train_dataset, [train_size, val_size])"
   ]
  },
  {
   "cell_type": "code",
   "execution_count": 11,
   "id": "04470412-fd01-4c7e-a548-13db59864955",
   "metadata": {},
   "outputs": [],
   "source": [
    "# оборачиваем в DataLoader, чтобы получить итерируемый объект и позаботиться о группировке семплов в батчи\n",
    "\n",
    "train_dataloader = DataLoader(train_data, batch_size=256, shuffle=True)\n",
    "val_dataloader = DataLoader(val_data, batch_size=256, shuffle=False)\n",
    "test_dataloader = DataLoader(test_dataset, batch_size=256, shuffle=False)"
   ]
  },
  {
   "cell_type": "markdown",
   "id": "05688403-c00b-4169-a263-d4cbc73fe67c",
   "metadata": {},
   "source": [
    "### CNN"
   ]
  },
  {
   "cell_type": "code",
   "execution_count": 12,
   "id": "ee66b7ff-2646-4a75-b7d9-49296e1a99d8",
   "metadata": {},
   "outputs": [
    {
     "name": "stdout",
     "output_type": "stream",
     "text": [
      "torch.Size([256, 1, 28, 28])\n"
     ]
    }
   ],
   "source": [
    "for data, target in train_dataloader:\n",
    "    print(data.shape)  \n",
    "    break"
   ]
  },
  {
   "cell_type": "code",
   "execution_count": 36,
   "id": "2788f35b-e057-49ce-b14a-206cddc0cc37",
   "metadata": {},
   "outputs": [],
   "source": [
    "# функция оценки работы модели\n",
    "def evaluation(model, dataloader):\n",
    "    model.eval()  # Отключаем dropout и batchnorm (если есть)\n",
    "    loss_sum = 0\n",
    "    correct = 0\n",
    "\n",
    "    for step, (data, target) in enumerate(dataloader):\n",
    "        with torch.no_grad(): \n",
    "            target = target.long()  # Преобразуем метки в long (для CrossEntropyLoss)\n",
    "            \n",
    "            output = model(data)\n",
    "            \n",
    "            loss = loss_f(output, target)\n",
    "\n",
    "        loss_sum += loss.item()\n",
    "\n",
    "        prediction = output.argmax(dim=1, keepdim=True) # находим индекс макс элемента – это и есть метка класса \n",
    "\n",
    "        correct += prediction.eq(target.view_as(prediction)).sum().item()\n",
    "\n",
    "    accuracy = correct / len(dataloader.dataset)\n",
    "    loss = loss_sum / (step + 1) \n",
    "    \n",
    "    return loss, accuracy\n",
    "    \n",
    "\n",
    "# функция обучения модели\n",
    "def train(model, train_dataloader, val_dataloader, optimizer, loss_f, n_epochs, scheduler, best_model_path, patience=5):\n",
    "    val_loss_list, val_acc_list = [], []\n",
    "    train_loss_list, train_acc_list = [], []\n",
    "\n",
    "    early_stop_counter = 0  # Счётчик для early stopping\n",
    "    best_loss = float('inf')  \n",
    "    \n",
    "    model.train()\n",
    "    for epoch in range(n_epochs):\n",
    "        loss_sum = 0\n",
    "        \n",
    "        for step, (data, target) in enumerate(train_dataloader):\n",
    "            target = target.long()  # Преобразуем метки в long (для CrossEntropyLoss)\n",
    "            \n",
    "            optimizer.zero_grad() # зануляем градиенты\n",
    "\n",
    "            output = model(data) # логиты\n",
    "\n",
    "            loss = loss_f(output, target)\n",
    "            loss.backward()\n",
    "\n",
    "            optimizer.step()\n",
    "\n",
    "            loss_sum += loss.item()\n",
    "\n",
    "        print(f'Epoch: {epoch}, \\tMean_Train_Loss: {loss_sum / (step + 1):.6f}')\n",
    "\n",
    "        # записываем результаты оценки модели для тренировочной и валидационной выборок\n",
    "        train_loss, train_accuracy = evaluation(model, train_dataloader)\n",
    "        train_loss_list.append(train_loss)\n",
    "        train_acc_list.append(train_accuracy)\n",
    "        \n",
    "        val_loss, val_accuracy = evaluation(model, val_dataloader)\n",
    "        val_loss_list.append(val_loss)\n",
    "        val_acc_list.append(val_accuracy)\n",
    "        print(f'Val_Loss: {val_loss:.6f}, \\tVal_Accuracy: {val_accuracy:.6f}\\n')  \n",
    "\n",
    "        # проверка early stopping\n",
    "        if val_loss < best_loss:\n",
    "            best_loss = val_loss\n",
    "            early_stop_counter = 0  # Сбрасываем счётчик\n",
    "            torch.save(model.state_dict(), best_model_path)  # Сохраняем веса лучшей модели\n",
    "        else:\n",
    "            early_stop_counter += 1  # Увеличиваем счётчик\n",
    "        \n",
    "        if early_stop_counter >= patience:\n",
    "            print(f\"Early stopping at epoch {epoch}\")\n",
    "            break\n",
    "\n",
    "        # Обновляем scheduler (уменьшаем LR, если val_loss не падает)\n",
    "        scheduler.step(val_loss)\n",
    "        \n",
    "    return val_loss_list, val_acc_list, train_loss_list, train_acc_list\n",
    "\n",
    "\n",
    "# график потерь (Loss) и график точности (Accuracy)\n",
    "def val_loss_accuracy_plot(val_loss_list, val_acc_list, train_loss_list, train_acc_list):\n",
    "    \n",
    "    fig, axs = plt.subplots(1, 2, figsize=(12, 5))\n",
    "\n",
    "    # график Loss \n",
    "    axs[0].plot(range(len(train_loss_list)), train_loss_list, label=\"Train Loss\", color='blue')\n",
    "    axs[0].plot(range(len(val_loss_list)), val_loss_list, label=\"Validation Loss\", color='red')\n",
    "    axs[0].set_xlabel('Epochs')\n",
    "    axs[0].set_ylabel('Loss')\n",
    "    axs[0].set_title('Model Loss per Epoch')\n",
    "    axs[0].grid(True)\n",
    "    axs[0].legend()\n",
    "\n",
    "    # график Accuracy \n",
    "    axs[1].plot(range(len(train_acc_list)), train_acc_list, label=\"Train Accuracy\", color='blue')\n",
    "    axs[1].plot(range(len(val_acc_list)), val_acc_list, label=\"Validation Accuracy\", color='red')\n",
    "    axs[1].set_xlabel('Epochs')\n",
    "    axs[1].set_ylabel('Accuracy')\n",
    "    axs[1].set_title('Model Accuracy per Epoch')\n",
    "    axs[1].grid(True)\n",
    "    axs[1].legend()\n",
    "\n",
    "    plt.show()"
   ]
  },
  {
   "cell_type": "code",
   "execution_count": 32,
   "id": "e5a31332-62c9-4157-b65e-8f38b9a50d3e",
   "metadata": {},
   "outputs": [],
   "source": [
    "class EMNIST_3CNN(nn.Module):\n",
    "    def __init__(self, n_classes):\n",
    "        super().__init__()\n",
    "        self.model = nn.Sequential(\n",
    "            nn.Conv2d(in_channels=1, out_channels=32, kernel_size=3, stride=1, padding=1), # [B, 1, 28, 28] -> [B, 32, 28, 28]\n",
    "            nn.ReLU(),\n",
    "            nn.MaxPool2d(kernel_size=2), # [B, 32, 28, 28] -> [B, 32, 14, 14]\n",
    "\n",
    "            nn.Conv2d(in_channels=32, out_channels=64, kernel_size=3, stride=1, padding=1), # [B, 32, 14, 14] -> [B, 64, 14, 14]\n",
    "            nn.ReLU(),\n",
    "            nn.MaxPool2d(kernel_size=2), # [B, 64, 14, 14] -> [B, 64, 7, 7]\n",
    "\n",
    "            nn.Conv2d(in_channels=64, out_channels=128, kernel_size=3, padding=1),\n",
    "            nn.ReLU(),\n",
    "            nn.MaxPool2d(kernel_size=2, stride=2),  # Уменьшаем размерность в 2 раза\n",
    "            \n",
    "            nn.Flatten(), # [B, 64, 7, 7] -> [B, 64*7*7]\n",
    "            \n",
    "            nn.Linear(in_features=1152, out_features=64), \n",
    "            nn.ReLU(),\n",
    "            nn.Linear(in_features=64, out_features=n_classes)\n",
    "        )\n",
    "\n",
    "    def forward(self, x):\n",
    "        return self.model(x)"
   ]
  },
  {
   "cell_type": "code",
   "execution_count": 33,
   "id": "5f011869-972c-4f4b-accc-66e530481c11",
   "metadata": {},
   "outputs": [
    {
     "data": {
      "text/plain": [
       "==========================================================================================\n",
       "Layer (type:depth-idx)                   Output Shape              Param #\n",
       "==========================================================================================\n",
       "EMNIST_3CNN                              [1, 47]                   --\n",
       "├─Sequential: 1-1                        [1, 47]                   --\n",
       "│    └─Conv2d: 2-1                       [1, 32, 28, 28]           320\n",
       "│    └─ReLU: 2-2                         [1, 32, 28, 28]           --\n",
       "│    └─MaxPool2d: 2-3                    [1, 32, 14, 14]           --\n",
       "│    └─Conv2d: 2-4                       [1, 64, 14, 14]           18,496\n",
       "│    └─ReLU: 2-5                         [1, 64, 14, 14]           --\n",
       "│    └─MaxPool2d: 2-6                    [1, 64, 7, 7]             --\n",
       "│    └─Conv2d: 2-7                       [1, 128, 7, 7]            73,856\n",
       "│    └─ReLU: 2-8                         [1, 128, 7, 7]            --\n",
       "│    └─MaxPool2d: 2-9                    [1, 128, 3, 3]            --\n",
       "│    └─Flatten: 2-10                     [1, 1152]                 --\n",
       "│    └─Linear: 2-11                      [1, 64]                   73,792\n",
       "│    └─ReLU: 2-12                        [1, 64]                   --\n",
       "│    └─Linear: 2-13                      [1, 47]                   3,055\n",
       "==========================================================================================\n",
       "Total params: 169,519\n",
       "Trainable params: 169,519\n",
       "Non-trainable params: 0\n",
       "Total mult-adds (Units.MEGABYTES): 7.57\n",
       "==========================================================================================\n",
       "Input size (MB): 0.00\n",
       "Forward/backward pass size (MB): 0.35\n",
       "Params size (MB): 0.68\n",
       "Estimated Total Size (MB): 1.03\n",
       "=========================================================================================="
      ]
     },
     "execution_count": 33,
     "metadata": {},
     "output_type": "execute_result"
    }
   ],
   "source": [
    "net = EMNIST_3CNN(n_classes=47)\n",
    "summary(net, input_size=(1, 1, 28, 28))"
   ]
  },
  {
   "cell_type": "code",
   "execution_count": 37,
   "id": "a88a0c39-9370-42d1-ae49-73c7f7548086",
   "metadata": {},
   "outputs": [
    {
     "name": "stdout",
     "output_type": "stream",
     "text": [
      "Epoch: 0, \tMean_Train_Loss: 2.100153\n",
      "Val_Loss: 0.806282, \tVal_Accuracy: 0.734043\n",
      "\n",
      "Epoch: 1, \tMean_Train_Loss: 0.589790\n",
      "Val_Loss: 0.516980, \tVal_Accuracy: 0.826152\n",
      "\n",
      "Epoch: 2, \tMean_Train_Loss: 0.463348\n",
      "Val_Loss: 0.517470, \tVal_Accuracy: 0.823848\n",
      "\n",
      "Epoch: 3, \tMean_Train_Loss: 0.410069\n",
      "Val_Loss: 0.424920, \tVal_Accuracy: 0.852881\n",
      "\n",
      "Epoch: 4, \tMean_Train_Loss: 0.377554\n",
      "Val_Loss: 0.430719, \tVal_Accuracy: 0.849645\n",
      "\n",
      "Epoch: 5, \tMean_Train_Loss: 0.354159\n",
      "Val_Loss: 0.428212, \tVal_Accuracy: 0.851507\n",
      "\n",
      "Epoch: 6, \tMean_Train_Loss: 0.334673\n",
      "Val_Loss: 0.405244, \tVal_Accuracy: 0.852704\n",
      "\n",
      "Epoch: 7, \tMean_Train_Loss: 0.319339\n",
      "Val_Loss: 0.380747, \tVal_Accuracy: 0.865514\n",
      "\n",
      "Epoch: 8, \tMean_Train_Loss: 0.307399\n",
      "Val_Loss: 0.385063, \tVal_Accuracy: 0.858067\n",
      "\n",
      "Epoch: 9, \tMean_Train_Loss: 0.295990\n",
      "Val_Loss: 0.402069, \tVal_Accuracy: 0.862234\n",
      "\n",
      "Epoch: 10, \tMean_Train_Loss: 0.285912\n",
      "Val_Loss: 0.362442, \tVal_Accuracy: 0.875532\n",
      "\n",
      "Epoch: 11, \tMean_Train_Loss: 0.276355\n",
      "Val_Loss: 0.374152, \tVal_Accuracy: 0.864450\n",
      "\n",
      "Epoch: 12, \tMean_Train_Loss: 0.267940\n",
      "Val_Loss: 0.354765, \tVal_Accuracy: 0.870257\n",
      "\n",
      "Epoch: 13, \tMean_Train_Loss: 0.259693\n",
      "Val_Loss: 0.359506, \tVal_Accuracy: 0.870434\n",
      "\n",
      "Epoch: 14, \tMean_Train_Loss: 0.252152\n",
      "Val_Loss: 0.370541, \tVal_Accuracy: 0.873715\n",
      "\n",
      "Epoch: 15, \tMean_Train_Loss: 0.246371\n",
      "Val_Loss: 0.378464, \tVal_Accuracy: 0.866356\n",
      "\n",
      "Epoch: 16, \tMean_Train_Loss: 0.238184\n",
      "Val_Loss: 0.358756, \tVal_Accuracy: 0.871676\n",
      "\n",
      "Epoch: 17, \tMean_Train_Loss: 0.233541\n",
      "Val_Loss: 0.450900, \tVal_Accuracy: 0.853679\n",
      "\n",
      "Epoch: 18, \tMean_Train_Loss: 0.226084\n",
      "Val_Loss: 0.391255, \tVal_Accuracy: 0.868573\n",
      "\n",
      "Epoch: 19, \tMean_Train_Loss: 0.189566\n",
      "Val_Loss: 0.336490, \tVal_Accuracy: 0.884796\n",
      "\n",
      "Epoch: 20, \tMean_Train_Loss: 0.182570\n",
      "Val_Loss: 0.338250, \tVal_Accuracy: 0.884707\n",
      "\n",
      "Epoch: 21, \tMean_Train_Loss: 0.180089\n",
      "Val_Loss: 0.340877, \tVal_Accuracy: 0.884441\n",
      "\n",
      "Epoch: 22, \tMean_Train_Loss: 0.178324\n",
      "Val_Loss: 0.342835, \tVal_Accuracy: 0.883821\n",
      "\n",
      "Epoch: 23, \tMean_Train_Loss: 0.176731\n",
      "Val_Loss: 0.344553, \tVal_Accuracy: 0.884929\n",
      "\n",
      "Epoch: 24, \tMean_Train_Loss: 0.175273\n",
      "Val_Loss: 0.346108, \tVal_Accuracy: 0.883777\n",
      "\n",
      "Epoch: 25, \tMean_Train_Loss: 0.173987\n",
      "Val_Loss: 0.347134, \tVal_Accuracy: 0.884619\n",
      "\n",
      "Epoch: 26, \tMean_Train_Loss: 0.170086\n",
      "Val_Loss: 0.345797, \tVal_Accuracy: 0.885505\n",
      "\n",
      "Epoch: 27, \tMean_Train_Loss: 0.169585\n",
      "Val_Loss: 0.346266, \tVal_Accuracy: 0.884353\n",
      "\n",
      "Epoch: 28, \tMean_Train_Loss: 0.169366\n",
      "Val_Loss: 0.346287, \tVal_Accuracy: 0.884486\n",
      "\n",
      "Epoch: 29, \tMean_Train_Loss: 0.169136\n",
      "Val_Loss: 0.346466, \tVal_Accuracy: 0.884087\n",
      "\n",
      "Early stopping at epoch 29\n",
      "Test_Loss: 0.3601310665945749, \tTest_Accuracy: 0.883138\n",
      "\n"
     ]
    }
   ],
   "source": [
    "model = EMNIST_3CNN(n_classes=47)\n",
    "\n",
    "loss_f = nn.CrossEntropyLoss()\n",
    "\n",
    "optimizer = torch.optim.SGD(model.parameters(), lr=1e-1)\n",
    "\n",
    "scheduler = optim.lr_scheduler.ReduceLROnPlateau(optimizer, mode='min', factor=0.1, patience=5)\n",
    "#print(f\"Before scheduler step: {scheduler.get_last_lr()}\\n\") \n",
    "\n",
    "n_epochs = 50\n",
    "patience = 10\n",
    "best_model_path = os.path.join('myapp', 'best_model3CNN.ckpt') \n",
    "\n",
    "val_loss_list, val_acc_list, train_loss_list, train_acc_list = train(model, train_dataloader, val_dataloader, \n",
    "                                                                     optimizer, loss_f, n_epochs, scheduler, best_model_path, patience)\n",
    "test_loss, test_accuracy = evaluation(model, test_dataloader)\n",
    "print(f'Test_Loss: {test_loss}, \\tTest_Accuracy: {test_accuracy:.6f}\\n')  \n",
    "\n",
    "#print(f\"After scheduler step: {scheduler.get_last_lr()}\")"
   ]
  },
  {
   "cell_type": "code",
   "execution_count": 38,
   "id": "1f7d3d9f-4fa4-4de2-b0af-1cca463320e7",
   "metadata": {},
   "outputs": [
    {
     "data": {
      "image/png": "[encoded data removed]",
      "text/plain": [
       "<Figure size 1200x500 with 2 Axes>"
      ]
     },
     "metadata": {},
     "output_type": "display_data"
    }
   ],
   "source": [
    "# посмотрим на графики \n",
    "\n",
    "val_loss_accuracy_plot(val_loss_list, val_acc_list, train_loss_list, train_acc_list)  "
   ]
  },
  {
   "cell_type": "code",
   "execution_count": 39,
   "id": "ddaec6a9-806e-4e0e-95a2-6752f458efbd",
   "metadata": {},
   "outputs": [
    {
     "data": {
      "text/plain": [
       "<All keys matched successfully>"
      ]
     },
     "execution_count": 39,
     "metadata": {},
     "output_type": "execute_result"
    }
   ],
   "source": [
    "# проверим, что модель корректно загружается\n",
    "\n",
    "# создаем модель\n",
    "model3CNN = EMNIST_3CNN(n_classes=47)\n",
    "\n",
    "# загружаем веса в модель\n",
    "model3CNN.load_state_dict(torch.load(best_model_path, weights_only=True))"
   ]
  },
  {
   "cell_type": "code",
   "execution_count": 40,
   "id": "49a90975-4111-42f8-a710-fd62afe2134e",
   "metadata": {},
   "outputs": [
    {
     "name": "stdout",
     "output_type": "stream",
     "text": [
      "Best model: \n",
      "Test_Loss: 0.3508078778112257, \tTest_Accuracy: 0.882979\n",
      "\n"
     ]
    }
   ],
   "source": [
    "test_loss, test_accuracy = evaluation(model3CNN, test_dataloader)\n",
    "print(f'Best model: \\nTest_Loss: {test_loss}, \\tTest_Accuracy: {test_accuracy:.6f}\\n')  "
   ]
  }
 ],
 "metadata": {
  "kernelspec": {
   "display_name": "Python 3 (ipykernel)",
   "language": "python",
   "name": "python3"
  },
  "language_info": {
   "codemirror_mode": {
    "name": "ipython",
    "version": 3
   },
   "file_extension": ".py",
   "mimetype": "text/x-python",
   "name": "python",
   "nbconvert_exporter": "python",
   "pygments_lexer": "ipython3",
   "version": "3.12.7"
  }
 },
 "nbformat": 4,
 "nbformat_minor": 5
}
